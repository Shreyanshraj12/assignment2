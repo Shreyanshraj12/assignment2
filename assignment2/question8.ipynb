{
 "cells": [
  {
   "cell_type": "code",
   "execution_count": 1,
   "metadata": {},
   "outputs": [
    {
     "name": "stdout",
     "output_type": "stream",
     "text": [
      "0\n"
     ]
    }
   ],
   "source": [
    "def minDifference(nums, k):\n",
    "    if len(nums) <= 4:\n",
    "        return 0\n",
    "    \n",
    "    nums.sort()\n",
    "    min_num = float('inf')\n",
    "    max_num = float('-inf')\n",
    "    \n",
    "    for i in range(len(nums)):\n",
    "        if i >= k and len(nums) - i > k:\n",
    "            min_num = min(min_num, nums[i] - k)\n",
    "            max_num = max(max_num, nums[i] + k)\n",
    "    \n",
    "    return max_num - min_num\n",
    "\n",
    "\n",
    "nums = [1]\n",
    "k = 0\n",
    "print(minDifference(nums, k))  "
   ]
  }
 ],
 "metadata": {
  "kernelspec": {
   "display_name": "Python 3",
   "language": "python",
   "name": "python3"
  },
  "language_info": {
   "codemirror_mode": {
    "name": "ipython",
    "version": 3
   },
   "file_extension": ".py",
   "mimetype": "text/x-python",
   "name": "python",
   "nbconvert_exporter": "python",
   "pygments_lexer": "ipython3",
   "version": "3.11.1"
  },
  "orig_nbformat": 4
 },
 "nbformat": 4,
 "nbformat_minor": 2
}
